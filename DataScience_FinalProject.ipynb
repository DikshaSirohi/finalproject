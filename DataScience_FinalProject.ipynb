{
  "nbformat": 4,
  "nbformat_minor": 0,
  "metadata": {
    "colab": {
      "provenance": []
    },
    "kernelspec": {
      "name": "python3",
      "display_name": "Python 3"
    },
    "language_info": {
      "name": "python"
    }
  },
  "cells": [
    {
      "cell_type": "markdown",
      "source": [
        "______________________________________________________________________________________________________________"
      ],
      "metadata": {
        "id": "ZkKs0CgIn7lb"
      }
    },
    {
      "cell_type": "markdown",
      "source": [
        "# **Movie Recommendation System**\n",
        "\n"
      ],
      "metadata": {
        "id": "dqZ-nhxiganh"
      }
    },
    {
      "cell_type": "markdown",
      "source": [
        "-------------"
      ],
      "metadata": {
        "id": "gScHkw6jjrLo"
      }
    },
    {
      "cell_type": "markdown",
      "source": [
        "### **Objective**"
      ],
      "metadata": {
        "id": "Xns_rCdhh-vZ"
      }
    },
    {
      "cell_type": "markdown",
      "source": [
        "*To build a simple system that can recommend movies to users based on their preferences.*"
      ],
      "metadata": {
        "id": "9sPvnFM1iI9l"
      }
    },
    {
      "cell_type": "markdown",
      "source": [
        "### **Data Source**"
      ],
      "metadata": {
        "id": "-Vbnt9CciKJP"
      }
    },
    {
      "cell_type": "markdown",
      "source": [
        "*We will use a small dataset of movies and user ratings.*"
      ],
      "metadata": {
        "id": "sGcv5WqQiNyl"
      }
    },
    {
      "cell_type": "markdown",
      "source": [
        "### **Import Library**"
      ],
      "metadata": {
        "id": "r7GrZzX0iTlV"
      }
    },
    {
      "cell_type": "code",
      "source": [
        "import pandas as pd\n",
        "import numpy as np\n",
        "from sklearn.model_selection import train_test_split\n",
        "from sklearn.metrics.pairwise import cosine_similarity"
      ],
      "metadata": {
        "id": "UkK6NH9DiW-X"
      },
      "execution_count": null,
      "outputs": []
    },
    {
      "cell_type": "markdown",
      "source": [
        "### **Import Data**"
      ],
      "metadata": {
        "id": "9lHPQj1XiOUc"
      }
    },
    {
      "cell_type": "code",
      "source": [
        "# Load movie ratings data\n",
        "ratings = pd.read_csv('ratings.csv')  # A CSV file with userId, movieId, rating columns\n",
        "movies = pd.read_csv('movies.csv')  # A CSV file with movieId, title columns\n",
        "\n",
        "# Display the first few rows of the data\n",
        "print(ratings.head())\n",
        "print(movies.head())"
      ],
      "metadata": {
        "id": "zcU1fdnGho6M",
        "colab": {
          "base_uri": "https://localhost:8080/"
        },
        "outputId": "9d571262-7021-432b-a1be-c5bd4feb876b"
      },
      "execution_count": null,
      "outputs": [
        {
          "output_type": "stream",
          "name": "stdout",
          "text": [
            "   userId  movieId  rating\n",
            "0       1        1       5\n",
            "1       1        2       4\n",
            "2       1        3       3\n",
            "3       2        1       4\n",
            "4       2        2       5\n",
            "   movieId    title\n",
            "0        1  Movie A\n",
            "1        2  Movie B\n",
            "2        3  Movie C\n",
            "3        4  Movie D\n",
            "4        5  Movie E\n"
          ]
        }
      ]
    },
    {
      "cell_type": "markdown",
      "source": [
        "### **Describe Data**"
      ],
      "metadata": {
        "id": "7PUnimBoiX-x"
      }
    },
    {
      "cell_type": "code",
      "source": [
        "# Check the shape of the data\n",
        "print(f\"Ratings data shape: {ratings.shape}\")\n",
        "print(f\"Movies data shape: {movies.shape}\")\n",
        "\n",
        "# Show some basic statistics\n",
        "print(ratings.describe())\n",
        "print(movies.describe())"
      ],
      "metadata": {
        "id": "kG15arusiZ8Z",
        "colab": {
          "base_uri": "https://localhost:8080/"
        },
        "outputId": "b493b372-17a6-4f05-9339-b4091b93c1fb"
      },
      "execution_count": null,
      "outputs": [
        {
          "output_type": "stream",
          "name": "stdout",
          "text": [
            "Ratings data shape: (15, 3)\n",
            "Movies data shape: (5, 2)\n",
            "         userId    movieId     rating\n",
            "count  15.00000  15.000000  15.000000\n",
            "mean    3.00000   2.733333   3.466667\n",
            "std     1.46385   1.437591   1.302013\n",
            "min     1.00000   1.000000   1.000000\n",
            "25%     2.00000   1.500000   2.500000\n",
            "50%     3.00000   3.000000   4.000000\n",
            "75%     4.00000   4.000000   4.500000\n",
            "max     5.00000   5.000000   5.000000\n",
            "        movieId\n",
            "count  5.000000\n",
            "mean   3.000000\n",
            "std    1.581139\n",
            "min    1.000000\n",
            "25%    2.000000\n",
            "50%    3.000000\n",
            "75%    4.000000\n",
            "max    5.000000\n"
          ]
        }
      ]
    },
    {
      "cell_type": "markdown",
      "source": [
        "### **Data Visualization**"
      ],
      "metadata": {
        "id": "oBGX4Ekniriz"
      }
    },
    {
      "cell_type": "code",
      "source": [
        "# Visualize the number of ratings each movie has received\n",
        "ratings_count = ratings['movieId'].value_counts()\n",
        "ratings_count.head(10).plot(kind='bar')\n",
        "plt.xlabel('MovieId')\n",
        "plt.ylabel('Number of Ratings')\n",
        "plt.title('Top 10 Rated Movies')\n",
        "plt.show()"
      ],
      "metadata": {
        "id": "lW-OIRK0iuzO",
        "colab": {
          "base_uri": "https://localhost:8080/",
          "height": 467
        },
        "outputId": "e2e9bdcf-e677-4099-bbc0-f41cd0fb887f"
      },
      "execution_count": null,
      "outputs": [
        {
          "output_type": "display_data",
          "data": {
            "text/plain": [
              "<Figure size 640x480 with 1 Axes>"
            ],
            "image/png": "[encoded data removed]"
          },
          "metadata": {}
        }
      ]
    },
    {
      "cell_type": "markdown",
      "source": [
        "### **Data Preprocessing**"
      ],
      "metadata": {
        "id": "UqfyPOCYiiww"
      }
    },
    {
      "cell_type": "code",
      "source": [
        "# Create a user-movie matrix\n",
        "user_movie_matrix = ratings.pivot(index='userId', columns='movieId', values='rating').fillna(0)"
      ],
      "metadata": {
        "id": "3cyr3fbGin0A"
      },
      "execution_count": null,
      "outputs": []
    },
    {
      "cell_type": "markdown",
      "source": [
        "### **Define Target Variable (y) and Feature Variables (X)**"
      ],
      "metadata": {
        "id": "2jXJpdAuiwYW"
      }
    },
    {
      "cell_type": "code",
      "source": [
        "# In this case, our user-movie matrix is both the feature (X) and target (y) variable\n",
        "X = user_movie_matrix.values\n",
        "y = user_movie_matrix.values"
      ],
      "metadata": {
        "id": "QBCakTuli57t"
      },
      "execution_count": null,
      "outputs": []
    },
    {
      "cell_type": "markdown",
      "source": [
        "### **Train Test Split**"
      ],
      "metadata": {
        "id": "90_0q_Pbi658"
      }
    },
    {
      "cell_type": "code",
      "source": [
        "# Split the data into training and test sets (we'll use a simple split for this example)\n",
        "X_train, X_test, y_train, y_test = train_test_split(X, y, test_size=0.2, random_state=42)"
      ],
      "metadata": {
        "id": "u60YYaOFi-Dw"
      },
      "execution_count": null,
      "outputs": []
    },
    {
      "cell_type": "markdown",
      "source": [
        "### **Modeling**"
      ],
      "metadata": {
        "id": "cIhyseNria7W"
      }
    },
    {
      "cell_type": "code",
      "source": [
        "# Use cosine similarity to find similar movies\n",
        "movie_similarity = cosine_similarity(user_movie_matrix.T)\n",
        "\n",
        "# Create a DataFrame for the similarity matrix\n",
        "movie_similarity_df = pd.DataFrame(movie_similarity, index=user_movie_matrix.columns, columns=user_movie_matrix.columns)"
      ],
      "metadata": {
        "id": "Toq58wpkjCw7"
      },
      "execution_count": null,
      "outputs": []
    },
    {
      "cell_type": "markdown",
      "source": [
        "### **Model Evaluation**"
      ],
      "metadata": {
        "id": "vhAwWfG0jFun"
      }
    },
    {
      "cell_type": "code",
      "source": [
        "# Evaluate the model by checking the similarity of a specific movie\n",
        "movie_id = 1  # Example movieId\n",
        "similar_movies = movie_similarity_df[movie_id].sort_values(ascending=False).head(10)\n",
        "print(\"Movies similar to movieId 1:\")\n",
        "print(similar_movies)"
      ],
      "metadata": {
        "id": "lND3jJj_jhx4",
        "colab": {
          "base_uri": "https://localhost:8080/"
        },
        "outputId": "b20171a5-e165-4ad2-b499-93e6d262f40b"
      },
      "execution_count": null,
      "outputs": [
        {
          "output_type": "stream",
          "name": "stdout",
          "text": [
            "Movies similar to movieId 1:\n",
            "movieId\n",
            "1    1.000000\n",
            "2    0.720984\n",
            "3    0.712065\n",
            "4    0.635053\n",
            "5    0.140028\n",
            "Name: 1, dtype: float64\n"
          ]
        }
      ]
    },
    {
      "cell_type": "markdown",
      "source": [
        "### **Prediction**"
      ],
      "metadata": {
        "id": "8AzwG7oLjiQI"
      }
    },
    {
      "cell_type": "code",
      "source": [
        "# Predict on a new sample\n",
        "user_id = 1  # Example userId\n",
        "user_ratings = user_movie_matrix.loc[user_id]\n",
        "user_ratings = user_ratings[user_ratings > 0].index.tolist()\n",
        "\n",
        "# Find similar movies\n",
        "recommendations = pd.Series(dtype='float64')\n",
        "for movie in user_ratings:\n",
        "    similar_score = movie_similarity_df[movie].sort_values(ascending=False)\n",
        "    recommendations = pd.concat([recommendations, similar_score])\n",
        "\n",
        "# Remove already rated movies\n",
        "recommendations = recommendations[~recommendations.index.isin(user_ratings)]\n",
        "recommendations = recommendations.sort_values(ascending=False).head(10)\n",
        "print(\"Recommended movies for userId 1:\")\n",
        "print(recommendations)"
      ],
      "metadata": {
        "id": "JLebGzDJjknA",
        "colab": {
          "base_uri": "https://localhost:8080/"
        },
        "outputId": "9d265a86-9853-446e-c703-41a6153f7556"
      },
      "execution_count": null,
      "outputs": [
        {
          "output_type": "stream",
          "name": "stdout",
          "text": [
            "Recommended movies for userId 1:\n",
            "4    0.635053\n",
            "4    0.618115\n",
            "5    0.454311\n",
            "4    0.377124\n",
            "5    0.363803\n",
            "5    0.140028\n",
            "dtype: float64\n"
          ]
        }
      ]
    },
    {
      "cell_type": "markdown",
      "source": [
        "### **Explaination**"
      ],
      "metadata": {
        "id": "SBo38CJZjlEX"
      }
    },
    {
      "cell_type": "markdown",
      "source": [
        "*In this project, we created a simple program to recommend movies to users based on their past ratings. We used a dataset of movie ratings from users. We built a user-movie matrix, which helps us understand which user likes which movies. We then used cosine similarity to find movies that are similar to each other. Finally, we recommended movies to users based on the movies they have already rated.*"
      ],
      "metadata": {
        "id": "Ybi8FR9Kjv00"
      }
    }
  ]
}